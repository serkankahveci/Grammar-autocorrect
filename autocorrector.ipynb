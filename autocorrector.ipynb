{
 "cells": [
  {
   "cell_type": "code",
   "execution_count": 2,
   "metadata": {},
   "outputs": [
    {
     "name": "stdout",
     "output_type": "stream",
     "text": [
      "Original: My namee am Serkan.\n",
      "Corrected: My name is Serbian.\n"
     ]
    }
   ],
   "source": [
    "import spacy\n",
    "from language_tool_python import LanguageTool\n",
    "from autocorrect import Speller\n",
    "\n",
    "def load_language_tool():\n",
    "    return LanguageTool('en-US')\n",
    "\n",
    "def load_speller():\n",
    "    return Speller(lang='en')\n",
    "\n",
    "def correct_tense(doc):\n",
    "    lemmatized_tokens = [token.lemma_ if token.pos_ == 'VERB' else\n",
    "                         token.text for token in doc]\n",
    "    return ' '.join(lemmatized_tokens)\n",
    "\n",
    "def correct_spelling(text, speller):\n",
    "    return speller(text)\n",
    "\n",
    "def correct_grammar(text, grammar_tool):\n",
    "    grammar_errors = grammar_tool.check(text)\n",
    "    corrected_grammar = grammar_tool.correct(text)\n",
    "    return corrected_grammar\n",
    "\n",
    "def correct_text(text, speller, grammar_tool):\n",
    "    corrected_tense = correct_tense(text)\n",
    "    corrected_spelling = correct_spelling(corrected_tense, speller)\n",
    "    corrected_text = correct_grammar(corrected_spelling, grammar_tool)\n",
    "    return corrected_text\n",
    "\n",
    "def main():\n",
    "    grammar_tool = load_language_tool()\n",
    "    speller = load_speller()\n",
    "\n",
    "    user_input = input(\"Enter a sentence: \")\n",
    "\n",
    "    nlp = spacy.load(\"en_core_web_sm\")\n",
    "    doc = nlp(user_input)\n",
    "\n",
    "    corrected = correct_text(doc, speller, grammar_tool)\n",
    "\n",
    "    if corrected != user_input and corrected.strip() != user_input.strip():\n",
    "        print(\"Original:\", user_input)\n",
    "        print(\"Corrected:\", corrected)\n",
    "    else:\n",
    "        print(\"No corrections suggested for the input sentence or the sentence is already correct.\")\n",
    "\n",
    "if __name__ == \"__main__\":\n",
    "    main()"
   ]
  }
 ],
 "metadata": {
  "kernelspec": {
   "display_name": "Python 3",
   "language": "python",
   "name": "python3"
  },
  "language_info": {
   "codemirror_mode": {
    "name": "ipython",
    "version": 3
   },
   "file_extension": ".py",
   "mimetype": "text/x-python",
   "name": "python",
   "nbconvert_exporter": "python",
   "pygments_lexer": "ipython3",
   "version": "3.11.4"
  }
 },
 "nbformat": 4,
 "nbformat_minor": 2
}
