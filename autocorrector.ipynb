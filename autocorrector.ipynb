{
 "cells": [
  {
   "cell_type": "code",
   "execution_count": 1,
   "metadata": {},
   "outputs": [
    {
     "name": "stdout",
     "output_type": "stream",
     "text": [
      "Original: We arr the chammpions.\n",
      "Corrected: We arr the champions . \n",
      "\n",
      "We    PRON\n",
      "arr    VERB\n",
      "the    DET\n",
      "champions    NOUN\n",
      ".    PUNCT\n"
     ]
    }
   ],
   "source": [
    "import spacy\n",
    "from autocorrect import Speller\n",
    "\n",
    "# Initialize spaCy and autocorrect\n",
    "nlp = spacy.load(\"en_core_web_md\")\n",
    "spell = Speller(lang='en')\n",
    "\n",
    "# Function to correct text\n",
    "def correct_text(text):\n",
    "    doc = nlp(text)\n",
    "    corrected_text = []\n",
    "    for token in doc:\n",
    "        corrected_text.append(spell(token.text))\n",
    "    return ' '.join(corrected_text)\n",
    "\n",
    "# Take input from the user\n",
    "user_input = input(\"Enter a sentence: \")\n",
    "\n",
    "# Correct the user's input\n",
    "corrected = correct_text(user_input)\n",
    "\n",
    "# Display corrected or original text\n",
    "if corrected != user_input and corrected.strip() != user_input.strip():\n",
    "    print(\"Original:\", user_input)\n",
    "    print(\"Corrected:\", corrected, \"\\n\")\n",
    "else:\n",
    "    print(\"No corrections suggested for the input sentence or the sentence is already correct.\")\n",
    "    \n",
    "# Process the corrected text with spaCy to iterate through tokens\n",
    "doc_corrected = nlp(corrected)\n",
    "for token in doc_corrected:\n",
    "    print(token.text,\"  \", token.pos_)"
   ]
  },
  {
   "cell_type": "markdown",
   "metadata": {},
   "source": []
  }
 ],
 "metadata": {
  "kernelspec": {
   "display_name": "Python 3",
   "language": "python",
   "name": "python3"
  },
  "language_info": {
   "codemirror_mode": {
    "name": "ipython",
    "version": 3
   },
   "file_extension": ".py",
   "mimetype": "text/x-python",
   "name": "python",
   "nbconvert_exporter": "python",
   "pygments_lexer": "ipython3",
   "version": "3.11.4"
  }
 },
 "nbformat": 4,
 "nbformat_minor": 2
}
